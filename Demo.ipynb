{
 "cells": [
  {
   "cell_type": "code",
   "execution_count": null,
   "id": "5bbea7e8-72ae-4609-8877-d8b1a4724216",
   "metadata": {},
   "outputs": [],
   "source": [
    "## Interfaz gráfica\n",
    "from StandardModel.Graphic.Interfaz import MiInterfaz\n",
    "\n",
    "app = MiInterfaz()\n",
    "app.iniciar()"
   ]
  },
  {
   "cell_type": "code",
   "execution_count": 6,
   "id": "e9742acf-1414-4be2-8c5b-d8cdad8eb0f0",
   "metadata": {},
   "outputs": [
    {
     "name": "stdout",
     "output_type": "stream",
     "text": [
      "Particula:  Quark Up\n",
      "Tipo:  Quark\n",
      "Masa:  2.16 MeV/c²\n",
      "Carga:  0.6666666666666666  e\n",
      "Spin:  0.5\n",
      "Sabor Extraño:  0\n",
      "Sabor Encantado:  0\n",
      "Sabor inferior:  0\n",
      "Sabor superior:  0\n",
      "----------------------------\n",
      "Particula:  Quark Top\n",
      "Tipo:  Quark\n",
      "Masa:  172.57 MeV/c²\n",
      "Carga:  0.6666666666666666  e\n",
      "Spin:  0\n",
      "Sabor Extraño:  0\n",
      "Sabor Encantado:  0\n",
      "Sabor inferior:  0\n",
      "Sabor superior:  1\n",
      "----------------------------\n",
      "Particula:  Electrón\n",
      "Tipo:  Lepton\n",
      "Masa:  0.51099895 MeV/c²\n",
      "Carga:  -1  e\n",
      "Spin:  0.5\n",
      "Momento magnético:  None\n",
      "Momento magnético anómalo:  0.00115965218062\n",
      "Vida media (mayor o igual):  2.08e+36 s\n",
      "Vida másica :  None s/eV\n",
      "----------------------------\n",
      "Particula:  Neutrino Tauónico\n",
      "Tipo:  Lepton\n",
      "Masa:  <0.8e-7 MeV/c²\n",
      "Carga:  0  e\n",
      "Spin:  0.5\n",
      "Momento magnético:  < 0.064e-10\n",
      "Momento magnético anómalo:  None\n",
      "Vida media (mayor o igual):  None s\n",
      "Vida másica :  > 15.4 s/eV\n",
      "----------------------------\n",
      "Particula:  Fotón\n",
      "Tipo:  Bosón\n",
      "Masa:  < e-27  GeV/c²\n",
      "Carga:  0  e\n",
      "Spin:  1\n",
      "----------------------------\n",
      "Particula:  Bosón de Higgs\n",
      "Tipo:  Bosón\n",
      "Masa:  125.2  GeV/c²\n",
      "Carga:  0  e\n",
      "Spin:  0\n",
      "----------------------------\n"
     ]
    }
   ],
   "source": [
    "## Modulo particles \n",
    "from StandardModel.Particles.Quarks import *\n",
    "from StandardModel.Particles.Leptons import *\n",
    "from StandardModel.Particles.Bosons import *\n",
    "\n",
    "Particula1 = quark_up\n",
    "Particula1.description()\n",
    "print(\"----\"*7)\n",
    "\n",
    "Particula2 = quark_top\n",
    "Particula2.description()\n",
    "print(\"----\"*7)\n",
    "\n",
    "Particula3 = electron\n",
    "Particula3.description()\n",
    "print(\"----\"*7)\n",
    "\n",
    "Particula4 = tau_neutrino\n",
    "Particula4.description()\n",
    "print(\"----\"*7)\n",
    "\n",
    "Particula5 = foton \n",
    "Particula5.description()\n",
    "print(\"----\"*7)\n",
    "\n",
    "Particula6 = Higgs\n",
    "Particula6.description()\n",
    "print(\"----\"*7)"
   ]
  },
  {
   "cell_type": "code",
   "execution_count": 4,
   "id": "7c57a9fd-9028-40a4-b80f-7a317e504fc1",
   "metadata": {},
   "outputs": [
    {
     "name": "stdout",
     "output_type": "stream",
     "text": [
      "Carga del protón [e]:  1.0\n",
      "Carga del neutrón [e]:  0.0\n"
     ]
    }
   ],
   "source": [
    "## Modulo Systems\n",
    "from StandardModel.Systems.Operations import *\n",
    "Particula2 = quark_down\n",
    "Particula3 = quark_up\n",
    "\n",
    "Proton = [Particula2, Particula3, Particula3]\n",
    "Neutron = [Particula2, Particula2, Particula3]\n",
    "\n",
    "print(\"Carga del protón [e]: \", total_charge(Proton))\n",
    "print(\"Carga del neutrón [e]: \", total_charge(Neutron))"
   ]
  },
  {
   "cell_type": "code",
   "execution_count": 14,
   "id": "c75c7ca7-3147-4fcd-828c-fd38094933a5",
   "metadata": {},
   "outputs": [
    {
     "name": "stdout",
     "output_type": "stream",
     "text": [
      "Vector 1: ThreeVector(x=(1+0j), y=(2+0j), z=(3+0j))\n",
      "Vector 2: ThreeVector(x=(4+0j), y=(5+0j), z=(6+0j))\n",
      "Vector 3: ThreeVector(x=(-1+0j), y=0j, z=(1+0j))\n",
      "\n",
      "1. Suma de v1 y v2 usando __add__: ThreeVector(x=(5+0j), y=(7+0j), z=(9+0j))\n",
      "\n",
      "2. Resta de v1 y v2 usando __sub__: ThreeVector(x=(-3+0j), y=(-3+0j), z=(-3+0j))\n",
      "\n",
      "3. v1 multiplicado por 3 usando __mul__: ThreeVector(x=(3+0j), y=(6+0j), z=(9+0j))\n",
      "\n",
      "4. Producto punto de v1 y v2: (32+0j)\n",
      "\n",
      "5. Producto cruzado de v1 y v2: ThreeVector(x=(-3+0j), y=(6+0j), z=(-3+0j))\n",
      "\n",
      "6. Producto cruzado de v2 y v3: ThreeVector(x=(5+0j), y=(-10+0j), z=(5+0j))\n",
      "\n",
      "7. Producto punto de v2 y v3: (2+0j)\n",
      "\n",
      "8. Suma de (v1 + v2) con v3 usando __add__: ThreeVector(x=(4+0j), y=(7+0j), z=(10+0j))\n"
     ]
    }
   ],
   "source": [
    "## ThreeVector del modulo Vectors\n",
    "from StandardModel.Vectors.three_vector import *\n",
    "\n",
    "v1 = ThreeVector(1, 2, 3)\n",
    "v2 = ThreeVector(4, 5, 6)\n",
    "v3 = ThreeVector(-1, 0, 1)\n",
    "\n",
    "# Imprimir los vectores iniciales\n",
    "print(\"Vector 1:\", v1)\n",
    "print(\"Vector 2:\", v2)\n",
    "print(\"Vector 3:\", v3)\n",
    "\n",
    "v_sum = v1.__add__(v2)\n",
    "print(\"Suma de v1 y v2 usando\", v_sum)\n",
    "\n",
    "v_diff = v1.__sub__(v2)\n",
    "print(\"Resta de v1 y v2 usando \", v_diff)\n",
    "\n",
    "v_scaled = v1.__mul__(3)\n",
    "print(\"v1 multiplicado por 3 usando\", v_scaled)\n",
    "\n",
    "v_dot = v1.dot(v2)\n",
    "print(\"Producto punto de v1 y v2:\", v_dot)\n",
    "\n",
    "v_cross = v1.cross(v2)\n",
    "print(\"Producto cruzado de v1 y v2:\", v_cross)\n",
    "\n",
    "v_cross2 = v2.cross(v3)\n",
    "print(\"Producto cruzado de v2 y v3:\", v_cross2)\n",
    "\n",
    "v_dot2 = v2.dot(v3)\n",
    "print(\"Producto punto de v2 y v3:\", v_dot2)\n"
   ]
  },
  {
   "cell_type": "code",
   "execution_count": 3,
   "id": "b169a1e3-c239-409f-a15e-e53f5f6aa236",
   "metadata": {},
   "outputs": [
    {
     "name": "stdout",
     "output_type": "stream",
     "text": [
      "Vector original: ThreeVector(x=(1+0j), y=0j, z=0j)\n",
      "\n",
      "Matriz de rotación:\n",
      "Rotation(rotation_matrix=\n",
      "[[ 6.123234e-17+0.j  0.000000e+00+0.j  1.000000e+00+0.j]\n",
      " [ 0.000000e+00+0.j  1.000000e+00+0.j  0.000000e+00+0.j]\n",
      " [-1.000000e+00+0.j  0.000000e+00+0.j  6.123234e-17+0.j]])\n",
      "\n",
      "Vector rotado: ThreeVector(x=(6.123233995736766e-17+0j), y=0j, z=(-1+0j))\n"
     ]
    }
   ],
   "source": [
    "## Rotation del modulo Vectors\n",
    "from StandardModel.Vectors.rotation import *\n",
    "\n",
    "v = ThreeVector(1, 0, 0)\n",
    "print(\"Vector original:\", v)\n",
    "\n",
    "axis = ThreeVector(0, 1, 0)\n",
    "\n",
    "# Rotación de pi/2\n",
    "rotation = Rotation(np.pi / 2, axis)\n",
    "print(\"\\nMatriz de rotación:\")\n",
    "print(rotation)\n",
    "\n",
    "rotated_v = rotation.apply(v)\n",
    "print(\"\\nVector rotado:\", rotated_v)"
   ]
  }
 ],
 "metadata": {
  "kernelspec": {
   "display_name": "Python 3 (ipykernel)",
   "language": "python",
   "name": "python3"
  },
  "language_info": {
   "codemirror_mode": {
    "name": "ipython",
    "version": 3
   },
   "file_extension": ".py",
   "mimetype": "text/x-python",
   "name": "python",
   "nbconvert_exporter": "python",
   "pygments_lexer": "ipython3",
   "version": "3.12.4"
  }
 },
 "nbformat": 4,
 "nbformat_minor": 5
}
